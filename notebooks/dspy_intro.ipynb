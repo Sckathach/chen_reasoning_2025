{
 "cells": [
  {
   "cell_type": "code",
   "execution_count": null,
   "id": "4b4fde6a",
   "metadata": {},
   "outputs": [],
   "source": [
    "import dspy\n",
    "from rich import print\n",
    "\n",
    "lm = dspy.LM(\"openai/qwen/qwen3-4b\")"
   ]
  },
  {
   "cell_type": "code",
   "execution_count": null,
   "id": "e79b27c6",
   "metadata": {},
   "outputs": [],
   "source": [
    "lm(\"What is the color of the sky?\")"
   ]
  },
  {
   "cell_type": "code",
   "execution_count": null,
   "id": "20e16374",
   "metadata": {},
   "outputs": [],
   "source": [
    "print(lm.history[0][\"response\"])"
   ]
  },
  {
   "cell_type": "code",
   "execution_count": null,
   "id": "bab2cd6c",
   "metadata": {},
   "outputs": [],
   "source": [
    "from pydantic import BaseModel, Field\n",
    "from typing import List\n",
    "\n",
    "class Character(BaseModel):\n",
    "    name: str \n",
    "    background: str = Field(description=\"One short sentence giving the background of the character.\")\n",
    "    age: int\n",
    "\n",
    "class CreatePersona(dspy.Signature):\n",
    "    \"\"\"Create 3 different character\"\"\"\n",
    "    theme: str = dspy.InputField()\n",
    "    characters: List[Character] = dspy.OutputField()\n",
    "\n",
    "dspy.configure(lm=lm)\n",
    "create_persona = dspy.Predict(CreatePersona)"
   ]
  },
  {
   "cell_type": "code",
   "execution_count": null,
   "id": "c01a3e7e",
   "metadata": {},
   "outputs": [],
   "source": [
    "print(create_persona(theme=\"Space marines\"))"
   ]
  },
  {
   "cell_type": "code",
   "execution_count": null,
   "id": "cdaafc62",
   "metadata": {},
   "outputs": [],
   "source": []
  }
 ],
 "metadata": {
  "kernelspec": {
   "display_name": ".venv",
   "language": "python",
   "name": "python3"
  },
  "language_info": {
   "codemirror_mode": {
    "name": "ipython",
    "version": 3
   },
   "file_extension": ".py",
   "mimetype": "text/x-python",
   "name": "python",
   "nbconvert_exporter": "python",
   "pygments_lexer": "ipython3",
   "version": "3.12.12"
  }
 },
 "nbformat": 4,
 "nbformat_minor": 5
}
